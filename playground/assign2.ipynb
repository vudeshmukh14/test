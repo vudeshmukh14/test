{
 "cells": [
  {
   "cell_type": "code",
   "execution_count": 37,
   "metadata": {},
   "outputs": [],
   "source": [
    "import sys\n",
    "\n",
    "sys.path.insert(0, '../openagent/compiler/resources')\n",
    "\n",
    "from _grammar import command_start, command_end, block_command_call"
   ]
  },
  {
   "cell_type": "code",
   "execution_count": 43,
   "metadata": {},
   "outputs": [],
   "source": [
    "import pyparsing as pp\n",
    "from nltk import sent_tokenize\n",
    "\n",
    "def formatter_utility(testString):\n",
    "    formatted_text = \"\"\n",
    "    idx = 0\n",
    "\n",
    "    for sent in sent_tokenize(testString):\n",
    "        idx += 1\n",
    "        block_command_open_test = (pp.Suppress(pp.Combine(command_start)) + block_command_call + command_end).set_parse_action(lambda s, l, t: [\" {{#assistant}}{{\"+t[0][0]+\" '\"+t[0][1][0][0]+\"'}}{{/assistant}}\"])\n",
    "        \n",
    "        if (len(block_command_open_test.search_string(sent)) == 0):\n",
    "            sent = \"{{#user}}\"+sent+\"{{/user}}\"\n",
    "        else:\n",
    "            if idx == 1:\n",
    "                sent = \"{{#user}}\"+sent\n",
    "                block_command_open_test_start = (pp.Suppress(pp.Combine(command_start)) + block_command_call + command_end).set_parse_action(lambda s, l, t: [\"{{/user}} {{#assistant}}{{\"+t[0][0]+\" '\"+t[0][1][0][0]+\"'}}{{/assistant}}\"])\n",
    "                sent = block_command_open_test_start.transform_string(sent)\n",
    "            else:\n",
    "                sent = block_command_open_test.transform_string(sent)\n",
    "\n",
    "        formatted_text += sent + \" \"\n",
    "\n",
    "    if (formatted_text.endswith(\"{{/assistant}} \") == False):\n",
    "        formatted_text += \"{{#assistant}}{{gen 'write'}}{{/assistant}}\" \n",
    "    else:\n",
    "        formatted_text += \"\\b\"\n",
    "\n",
    "    return formatted_text"
   ]
  },
  {
   "cell_type": "code",
   "execution_count": 44,
   "metadata": {},
   "outputs": [
    {
     "name": "stdout",
     "output_type": "stream",
     "text": [
      "{{#user}}how are things going, tell me about Delhi{{/user}} {{#assistant}}{{gen 'write'}}{{/assistant}}\n"
     ]
    }
   ],
   "source": [
    "testString = \"how are things going, tell me about Delhi\"\n",
    "print(formatter_utility(testString))"
   ]
  },
  {
   "cell_type": "code",
   "execution_count": 45,
   "metadata": {},
   "outputs": [
    {
     "name": "stdout",
     "output_type": "stream",
     "text": [
      "{{#user}}Tweak this proverb to apply to model instructions instead.{{/user}} Where there is no guidance {{#assistant}}{{gen 'rewrite'}}{{/assistant}}\n"
     ]
    }
   ],
   "source": [
    "testString = \"Tweak this proverb to apply to model instructions instead. Where there is no guidance{{gen 'rewrite'}}\"\n",
    "print(formatter_utility(testString))"
   ]
  },
  {
   "cell_type": "code",
   "execution_count": 46,
   "metadata": {},
   "outputs": [
    {
     "name": "stdout",
     "output_type": "stream",
     "text": [
      "{{#user}}how are things going, tell me about Delhi{{/user}} {{#assistant}}{{gen 'rewrite'}}{{/assistant}}\n"
     ]
    }
   ],
   "source": [
    "testString = \"how are things going, tell me about Delhi{{gen 'rewrite'}}\"\n",
    "print(formatter_utility(testString))"
   ]
  },
  {
   "cell_type": "code",
   "execution_count": 47,
   "metadata": {},
   "outputs": [
    {
     "name": "stdout",
     "output_type": "stream",
     "text": [
      "{{#user}}Lorem ipsum dolor sit amet, consectetur adipiscing elit.{{/user}} Nulla  {{#assistant}}{{gen 'write'}}{{/assistant}}elementum justo  {{#assistant}}{{gen 'write'}}{{/assistant}}risus,  {{#assistant}}{{gen 'write'}}{{/assistant}}at suscipit  {{#assistant}}{{gen 'write'}}{{/assistant}}nibh lobortis id. Fusce  {{#assistant}}{{gen 'write'}}{{/assistant}}velit  {{#assistant}}{{gen 'write'}}{{/assistant}}malesuada,  {{#assistant}}{{gen 'write'}}{{/assistant}}quam vel  {{#assistant}}{{gen 'write'}}{{/assistant}}mollis  {{#assistant}}{{gen 'write'}}{{/assistant}}sodales, nunc  {{#assistant}}{{gen 'write'}}{{/assistant}}turpis  {{#assistant}}{{gen 'write'}}{{/assistant}}pellentesque  {{#assistant}}{{gen 'write'}}{{/assistant}}tortor. {{#assistant}}{{gen 'write'}}{{/assistant}}\n"
     ]
    }
   ],
   "source": [
    "testString = \"Lorem ipsum dolor sit amet, consectetur adipiscing elit. Nulla {{gen 'write'}}elementum justo {{gen 'write'}}risus, {{gen 'write'}}at suscipit {{gen 'write'}}nibh lobortis id. Fusce {{gen 'write'}}velit {{gen 'write'}}malesuada, {{gen 'write'}}quam vel {{gen 'write'}}mollis {{gen 'write'}}sodales, nunc {{gen 'write'}}turpis {{gen 'write'}}pellentesque {{gen 'write'}}tortor.\"\n",
    "print(formatter_utility(testString))"
   ]
  }
 ],
 "metadata": {
  "kernelspec": {
   "display_name": "Python 3",
   "language": "python",
   "name": "python3"
  },
  "language_info": {
   "codemirror_mode": {
    "name": "ipython",
    "version": 3
   },
   "file_extension": ".py",
   "mimetype": "text/x-python",
   "name": "python",
   "nbconvert_exporter": "python",
   "pygments_lexer": "ipython3",
   "version": "3.9.6"
  },
  "orig_nbformat": 4
 },
 "nbformat": 4,
 "nbformat_minor": 2
}
